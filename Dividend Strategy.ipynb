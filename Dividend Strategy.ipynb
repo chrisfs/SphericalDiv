{
 "cells": [
  {
   "cell_type": "code",
   "execution_count": 121,
   "metadata": {},
   "outputs": [],
   "source": [
    "import pandas as pd\n",
    "import pandas_datareader as pdr\n",
    "from datetime import datetime,timedelta\n",
    "\n",
    "returns = list()\n",
    "#one_day = timedelta(days=1)"
   ]
  },
  {
   "cell_type": "code",
   "execution_count": 122,
   "metadata": {
    "collapsed": true
   },
   "outputs": [],
   "source": [
    "start = '05-02-2017'\n",
    "end = '05-01-2018'\n",
    "\n",
    "s = pdr.mstar.daily.MorningstarDailyReader('O',start=start,end=end ,incl_dividends=True, incl_volume=False,interval='d')\n",
    "\n",
    "\n",
    "#start = datetime(2018, 4, 2)\n",
    "#end = datetime(2018, 4, 30)\n",
    "\n",
    "#o = pdr.DataReader('O', 'morningstar', start, end)"
   ]
  },
  {
   "cell_type": "code",
   "execution_count": 123,
   "metadata": {
    "collapsed": true
   },
   "outputs": [],
   "source": [
    "a = pd.DataFrame(s.read())"
   ]
  },
  {
   "cell_type": "code",
   "execution_count": 124,
   "metadata": {},
   "outputs": [
    {
     "data": {
      "text/html": [
       "<div>\n",
       "<style scoped>\n",
       "    .dataframe tbody tr th:only-of-type {\n",
       "        vertical-align: middle;\n",
       "    }\n",
       "\n",
       "    .dataframe tbody tr th {\n",
       "        vertical-align: top;\n",
       "    }\n",
       "\n",
       "    .dataframe thead th {\n",
       "        text-align: right;\n",
       "    }\n",
       "</style>\n",
       "<table border=\"1\" class=\"dataframe\">\n",
       "  <thead>\n",
       "    <tr style=\"text-align: right;\">\n",
       "      <th></th>\n",
       "      <th></th>\n",
       "      <th>Close</th>\n",
       "      <th>High</th>\n",
       "      <th>Low</th>\n",
       "      <th>Open</th>\n",
       "      <th>isDividend</th>\n",
       "    </tr>\n",
       "    <tr>\n",
       "      <th>Symbol</th>\n",
       "      <th>Date</th>\n",
       "      <th></th>\n",
       "      <th></th>\n",
       "      <th></th>\n",
       "      <th></th>\n",
       "      <th></th>\n",
       "    </tr>\n",
       "  </thead>\n",
       "  <tbody>\n",
       "    <tr>\n",
       "      <th rowspan=\"5\" valign=\"top\">O</th>\n",
       "      <th>2017-05-02</th>\n",
       "      <td>59.04</td>\n",
       "      <td>59.39</td>\n",
       "      <td>58.845</td>\n",
       "      <td>58.94</td>\n",
       "      <td>NaN</td>\n",
       "    </tr>\n",
       "    <tr>\n",
       "      <th>2017-05-03</th>\n",
       "      <td>57.83</td>\n",
       "      <td>59.22</td>\n",
       "      <td>57.600</td>\n",
       "      <td>59.16</td>\n",
       "      <td>NaN</td>\n",
       "    </tr>\n",
       "    <tr>\n",
       "      <th>2017-05-04</th>\n",
       "      <td>55.78</td>\n",
       "      <td>57.54</td>\n",
       "      <td>54.920</td>\n",
       "      <td>57.54</td>\n",
       "      <td>NaN</td>\n",
       "    </tr>\n",
       "    <tr>\n",
       "      <th>2017-05-05</th>\n",
       "      <td>56.62</td>\n",
       "      <td>56.72</td>\n",
       "      <td>55.800</td>\n",
       "      <td>56.01</td>\n",
       "      <td>NaN</td>\n",
       "    </tr>\n",
       "    <tr>\n",
       "      <th>2017-05-08</th>\n",
       "      <td>55.68</td>\n",
       "      <td>57.07</td>\n",
       "      <td>55.530</td>\n",
       "      <td>56.84</td>\n",
       "      <td>NaN</td>\n",
       "    </tr>\n",
       "  </tbody>\n",
       "</table>\n",
       "</div>"
      ],
      "text/plain": [
       "                   Close   High     Low   Open isDividend\n",
       "Symbol Date                                              \n",
       "O      2017-05-02  59.04  59.39  58.845  58.94        NaN\n",
       "       2017-05-03  57.83  59.22  57.600  59.16        NaN\n",
       "       2017-05-04  55.78  57.54  54.920  57.54        NaN\n",
       "       2017-05-05  56.62  56.72  55.800  56.01        NaN\n",
       "       2017-05-08  55.68  57.07  55.530  56.84        NaN"
      ]
     },
     "execution_count": 124,
     "metadata": {},
     "output_type": "execute_result"
    }
   ],
   "source": [
    "a.head()"
   ]
  },
  {
   "cell_type": "code",
   "execution_count": 125,
   "metadata": {},
   "outputs": [
    {
     "data": {
      "text/html": [
       "<div>\n",
       "<style scoped>\n",
       "    .dataframe tbody tr th:only-of-type {\n",
       "        vertical-align: middle;\n",
       "    }\n",
       "\n",
       "    .dataframe tbody tr th {\n",
       "        vertical-align: top;\n",
       "    }\n",
       "\n",
       "    .dataframe thead th {\n",
       "        text-align: right;\n",
       "    }\n",
       "</style>\n",
       "<table border=\"1\" class=\"dataframe\">\n",
       "  <thead>\n",
       "    <tr style=\"text-align: right;\">\n",
       "      <th></th>\n",
       "      <th>Close</th>\n",
       "      <th>High</th>\n",
       "      <th>Low</th>\n",
       "      <th>Open</th>\n",
       "      <th>isDividend</th>\n",
       "      <th>Date</th>\n",
       "    </tr>\n",
       "    <tr>\n",
       "      <th>Date</th>\n",
       "      <th></th>\n",
       "      <th></th>\n",
       "      <th></th>\n",
       "      <th></th>\n",
       "      <th></th>\n",
       "      <th></th>\n",
       "    </tr>\n",
       "  </thead>\n",
       "  <tbody>\n",
       "    <tr>\n",
       "      <th>2017-05-02</th>\n",
       "      <td>59.04</td>\n",
       "      <td>59.39</td>\n",
       "      <td>58.845</td>\n",
       "      <td>58.94</td>\n",
       "      <td>NaN</td>\n",
       "      <td>2017-05-02</td>\n",
       "    </tr>\n",
       "    <tr>\n",
       "      <th>2017-05-03</th>\n",
       "      <td>57.83</td>\n",
       "      <td>59.22</td>\n",
       "      <td>57.600</td>\n",
       "      <td>59.16</td>\n",
       "      <td>NaN</td>\n",
       "      <td>2017-05-03</td>\n",
       "    </tr>\n",
       "    <tr>\n",
       "      <th>2017-05-04</th>\n",
       "      <td>55.78</td>\n",
       "      <td>57.54</td>\n",
       "      <td>54.920</td>\n",
       "      <td>57.54</td>\n",
       "      <td>NaN</td>\n",
       "      <td>2017-05-04</td>\n",
       "    </tr>\n",
       "    <tr>\n",
       "      <th>2017-05-05</th>\n",
       "      <td>56.62</td>\n",
       "      <td>56.72</td>\n",
       "      <td>55.800</td>\n",
       "      <td>56.01</td>\n",
       "      <td>NaN</td>\n",
       "      <td>2017-05-05</td>\n",
       "    </tr>\n",
       "    <tr>\n",
       "      <th>2017-05-08</th>\n",
       "      <td>55.68</td>\n",
       "      <td>57.07</td>\n",
       "      <td>55.530</td>\n",
       "      <td>56.84</td>\n",
       "      <td>NaN</td>\n",
       "      <td>2017-05-08</td>\n",
       "    </tr>\n",
       "  </tbody>\n",
       "</table>\n",
       "</div>"
      ],
      "text/plain": [
       "            Close   High     Low   Open isDividend       Date\n",
       "Date                                                         \n",
       "2017-05-02  59.04  59.39  58.845  58.94        NaN 2017-05-02\n",
       "2017-05-03  57.83  59.22  57.600  59.16        NaN 2017-05-03\n",
       "2017-05-04  55.78  57.54  54.920  57.54        NaN 2017-05-04\n",
       "2017-05-05  56.62  56.72  55.800  56.01        NaN 2017-05-05\n",
       "2017-05-08  55.68  57.07  55.530  56.84        NaN 2017-05-08"
      ]
     },
     "execution_count": 125,
     "metadata": {},
     "output_type": "execute_result"
    }
   ],
   "source": [
    "a.index = a.index.droplevel(0)\n",
    "a['Date'] = a.index\n",
    "a.head()"
   ]
  },
  {
   "cell_type": "code",
   "execution_count": 126,
   "metadata": {},
   "outputs": [
    {
     "name": "stderr",
     "output_type": "stream",
     "text": [
      "C:\\Users\\Owner\\Anaconda3\\lib\\site-packages\\pandas\\core\\indexing.py:537: SettingWithCopyWarning: \n",
      "A value is trying to be set on a copy of a slice from a DataFrame.\n",
      "Try using .loc[row_indexer,col_indexer] = value instead\n",
      "\n",
      "See the caveats in the documentation: http://pandas.pydata.org/pandas-docs/stable/indexing.html#indexing-view-versus-copy\n",
      "  self.obj[item] = s\n"
     ]
    },
    {
     "data": {
      "text/html": [
       "<div>\n",
       "<style scoped>\n",
       "    .dataframe tbody tr th:only-of-type {\n",
       "        vertical-align: middle;\n",
       "    }\n",
       "\n",
       "    .dataframe tbody tr th {\n",
       "        vertical-align: top;\n",
       "    }\n",
       "\n",
       "    .dataframe thead th {\n",
       "        text-align: right;\n",
       "    }\n",
       "</style>\n",
       "<table border=\"1\" class=\"dataframe\">\n",
       "  <thead>\n",
       "    <tr style=\"text-align: right;\">\n",
       "      <th></th>\n",
       "      <th>Close</th>\n",
       "      <th>High</th>\n",
       "      <th>Low</th>\n",
       "      <th>Open</th>\n",
       "      <th>isDividend</th>\n",
       "      <th>Date</th>\n",
       "    </tr>\n",
       "    <tr>\n",
       "      <th>Date</th>\n",
       "      <th></th>\n",
       "      <th></th>\n",
       "      <th></th>\n",
       "      <th></th>\n",
       "      <th></th>\n",
       "      <th></th>\n",
       "    </tr>\n",
       "  </thead>\n",
       "  <tbody>\n",
       "    <tr>\n",
       "      <th>2017-05-30</th>\n",
       "      <td>55.00</td>\n",
       "      <td>55.5200</td>\n",
       "      <td>54.95</td>\n",
       "      <td>55.09</td>\n",
       "      <td>0.2110</td>\n",
       "      <td>2017-05-30</td>\n",
       "    </tr>\n",
       "    <tr>\n",
       "      <th>2017-06-29</th>\n",
       "      <td>55.77</td>\n",
       "      <td>56.4500</td>\n",
       "      <td>55.44</td>\n",
       "      <td>56.39</td>\n",
       "      <td>0.2115</td>\n",
       "      <td>2017-06-29</td>\n",
       "    </tr>\n",
       "    <tr>\n",
       "      <th>2017-07-28</th>\n",
       "      <td>57.20</td>\n",
       "      <td>58.1913</td>\n",
       "      <td>57.11</td>\n",
       "      <td>57.89</td>\n",
       "      <td>0.2115</td>\n",
       "      <td>2017-07-28</td>\n",
       "    </tr>\n",
       "    <tr>\n",
       "      <th>2017-08-30</th>\n",
       "      <td>56.92</td>\n",
       "      <td>57.0150</td>\n",
       "      <td>56.57</td>\n",
       "      <td>56.89</td>\n",
       "      <td>0.2115</td>\n",
       "      <td>2017-08-30</td>\n",
       "    </tr>\n",
       "    <tr>\n",
       "      <th>2017-09-29</th>\n",
       "      <td>57.19</td>\n",
       "      <td>57.6000</td>\n",
       "      <td>56.85</td>\n",
       "      <td>57.50</td>\n",
       "      <td>0.2120</td>\n",
       "      <td>2017-09-29</td>\n",
       "    </tr>\n",
       "  </tbody>\n",
       "</table>\n",
       "</div>"
      ],
      "text/plain": [
       "            Close     High    Low   Open isDividend       Date\n",
       "Date                                                          \n",
       "2017-05-30  55.00  55.5200  54.95  55.09     0.2110 2017-05-30\n",
       "2017-06-29  55.77  56.4500  55.44  56.39     0.2115 2017-06-29\n",
       "2017-07-28  57.20  58.1913  57.11  57.89     0.2115 2017-07-28\n",
       "2017-08-30  56.92  57.0150  56.57  56.89     0.2115 2017-08-30\n",
       "2017-09-29  57.19  57.6000  56.85  57.50     0.2120 2017-09-29"
      ]
     },
     "execution_count": 126,
     "metadata": {},
     "output_type": "execute_result"
    }
   ],
   "source": [
    "div = a[a.isDividend.notnull()]\n",
    "div.loc[:,'isDividend'] = div.isDividend.str.slice(2,-4)\n",
    "div.head()"
   ]
  },
  {
   "cell_type": "code",
   "execution_count": 97,
   "metadata": {},
   "outputs": [
    {
     "data": {
      "text/plain": [
       "50.51"
      ]
     },
     "execution_count": 97,
     "metadata": {},
     "output_type": "execute_result"
    }
   ],
   "source": [
    "sell =float(a.loc['2018-04-30'].Close)\n",
    "sell"
   ]
  },
  {
   "cell_type": "code",
   "execution_count": 98,
   "metadata": {},
   "outputs": [
    {
     "data": {
      "text/plain": [
       "50.34"
      ]
     },
     "execution_count": 98,
     "metadata": {},
     "output_type": "execute_result"
    }
   ],
   "source": [
    "buy = float(a.loc['2018-04-27'].Open)\n",
    "buy"
   ]
  },
  {
   "cell_type": "code",
   "execution_count": 99,
   "metadata": {},
   "outputs": [
    {
     "data": {
      "text/plain": [
       "0.1699999999999946"
      ]
     },
     "execution_count": 99,
     "metadata": {},
     "output_type": "execute_result"
    }
   ],
   "source": [
    "r = sell - buy\n",
    "r"
   ]
  },
  {
   "cell_type": "code",
   "execution_count": 104,
   "metadata": {},
   "outputs": [
    {
     "data": {
      "text/plain": [
       "Timestamp('2017-05-03 00:00:00')"
      ]
     },
     "execution_count": 104,
     "metadata": {},
     "output_type": "execute_result"
    }
   ],
   "source": [
    "a.loc['2017-05-03'].Date"
   ]
  },
  {
   "cell_type": "code",
   "execution_count": 113,
   "metadata": {},
   "outputs": [
    {
     "data": {
      "text/plain": [
       "59.039999999999999"
      ]
     },
     "execution_count": 113,
     "metadata": {},
     "output_type": "execute_result"
    }
   ],
   "source": [
    "a.iloc[a.index.get_loc('2017-05-03')-1].Close"
   ]
  },
  {
   "cell_type": "code",
   "execution_count": 135,
   "metadata": {},
   "outputs": [
    {
     "name": "stdout",
     "output_type": "stream",
     "text": [
      "Total return 0.8749999999999462\n",
      "[0.031000000000000277, -0.14849999999999944, -0.41849999999999543, -0.34849999999999515, 0.1319999999999946, -0.13800000000000143, -0.22800000000000484, 0.49250000000000116, 0.45899999999999486, -1.281, 1.2694999999999972, 0.38949999999999463, 0.031000000000000277, 0.031000000000000277, -0.14849999999999944, -0.41849999999999543, -0.34849999999999515, 0.1319999999999946, -0.13800000000000143, -0.22800000000000484, 0.49250000000000116, 0.45899999999999486, -1.281, 1.2694999999999972, 0.38949999999999463, 0.031000000000000277, -0.14849999999999944, -0.41849999999999543, -0.34849999999999515, 0.1319999999999946, -0.13800000000000143, -0.22800000000000484, 0.49250000000000116, 0.45899999999999486, -1.281, 1.2694999999999972, 0.38949999999999463, 0.031000000000000277, -0.14849999999999944, -0.41849999999999543, -0.34849999999999515, 0.1319999999999946, -0.13800000000000143, -0.22800000000000484, 0.49250000000000116, 0.45899999999999486, -1.281, 1.2694999999999972, 0.38949999999999463]\n"
     ]
    }
   ],
   "source": [
    "for i,d in div.iterrows():\n",
    "    sell = float(d[0])\n",
    "    buy = float(a.iloc[a.index.get_loc(i)-1].Open) #open price day before\n",
    "    dividend = float(d[4])\n",
    "    r =sell - buy + dividend\n",
    "    returns.append(r)\n",
    "    #print (r)\n",
    "print (\"Total return\", sum(returns))\n",
    "print (returns)"
   ]
  },
  {
   "cell_type": "code",
   "execution_count": 136,
   "metadata": {},
   "outputs": [
    {
     "data": {
      "text/html": [
       "<div>\n",
       "<style scoped>\n",
       "    .dataframe tbody tr th:only-of-type {\n",
       "        vertical-align: middle;\n",
       "    }\n",
       "\n",
       "    .dataframe tbody tr th {\n",
       "        vertical-align: top;\n",
       "    }\n",
       "\n",
       "    .dataframe thead th {\n",
       "        text-align: right;\n",
       "    }\n",
       "</style>\n",
       "<table border=\"1\" class=\"dataframe\">\n",
       "  <thead>\n",
       "    <tr style=\"text-align: right;\">\n",
       "      <th></th>\n",
       "      <th>Close</th>\n",
       "      <th>High</th>\n",
       "      <th>Low</th>\n",
       "      <th>Open</th>\n",
       "      <th>isDividend</th>\n",
       "      <th>Date</th>\n",
       "    </tr>\n",
       "    <tr>\n",
       "      <th>Date</th>\n",
       "      <th></th>\n",
       "      <th></th>\n",
       "      <th></th>\n",
       "      <th></th>\n",
       "      <th></th>\n",
       "      <th></th>\n",
       "    </tr>\n",
       "  </thead>\n",
       "  <tbody>\n",
       "    <tr>\n",
       "      <th>2018-04-25</th>\n",
       "      <td>49.61</td>\n",
       "      <td>49.63</td>\n",
       "      <td>49.010</td>\n",
       "      <td>49.37</td>\n",
       "      <td>NaN</td>\n",
       "      <td>2018-04-25</td>\n",
       "    </tr>\n",
       "    <tr>\n",
       "      <th>2018-04-26</th>\n",
       "      <td>50.39</td>\n",
       "      <td>50.68</td>\n",
       "      <td>49.620</td>\n",
       "      <td>49.81</td>\n",
       "      <td>NaN</td>\n",
       "      <td>2018-04-26</td>\n",
       "    </tr>\n",
       "    <tr>\n",
       "      <th>2018-04-27</th>\n",
       "      <td>51.45</td>\n",
       "      <td>51.81</td>\n",
       "      <td>50.340</td>\n",
       "      <td>50.34</td>\n",
       "      <td>NaN</td>\n",
       "      <td>2018-04-27</td>\n",
       "    </tr>\n",
       "    <tr>\n",
       "      <th>2018-04-30</th>\n",
       "      <td>50.51</td>\n",
       "      <td>51.43</td>\n",
       "      <td>50.510</td>\n",
       "      <td>51.35</td>\n",
       "      <td>s:0.2195&lt;br&gt;</td>\n",
       "      <td>2018-04-30</td>\n",
       "    </tr>\n",
       "    <tr>\n",
       "      <th>2018-05-01</th>\n",
       "      <td>51.18</td>\n",
       "      <td>51.32</td>\n",
       "      <td>50.244</td>\n",
       "      <td>50.50</td>\n",
       "      <td>NaN</td>\n",
       "      <td>2018-05-01</td>\n",
       "    </tr>\n",
       "  </tbody>\n",
       "</table>\n",
       "</div>"
      ],
      "text/plain": [
       "            Close   High     Low   Open    isDividend       Date\n",
       "Date                                                            \n",
       "2018-04-25  49.61  49.63  49.010  49.37           NaN 2018-04-25\n",
       "2018-04-26  50.39  50.68  49.620  49.81           NaN 2018-04-26\n",
       "2018-04-27  51.45  51.81  50.340  50.34           NaN 2018-04-27\n",
       "2018-04-30  50.51  51.43  50.510  51.35  s:0.2195<br> 2018-04-30\n",
       "2018-05-01  51.18  51.32  50.244  50.50           NaN 2018-05-01"
      ]
     },
     "execution_count": 136,
     "metadata": {},
     "output_type": "execute_result"
    }
   ],
   "source": [
    "a.tail()"
   ]
  },
  {
   "cell_type": "code",
   "execution_count": 138,
   "metadata": {},
   "outputs": [
    {
     "data": {
      "text/plain": [
       "1.7058823529411766"
      ]
     },
     "execution_count": 138,
     "metadata": {},
     "output_type": "execute_result"
    }
   ],
   "source": [
    "0.87/51 *100"
   ]
  },
  {
   "cell_type": "code",
   "execution_count": null,
   "metadata": {
    "collapsed": true
   },
   "outputs": [],
   "source": []
  }
 ],
 "metadata": {
  "kernelspec": {
   "display_name": "Python 3",
   "language": "python",
   "name": "python3"
  },
  "language_info": {
   "codemirror_mode": {
    "name": "ipython",
    "version": 3
   },
   "file_extension": ".py",
   "mimetype": "text/x-python",
   "name": "python",
   "nbconvert_exporter": "python",
   "pygments_lexer": "ipython3",
   "version": "3.6.4"
  }
 },
 "nbformat": 4,
 "nbformat_minor": 2
}
